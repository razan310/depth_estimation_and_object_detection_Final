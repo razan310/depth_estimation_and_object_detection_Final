{
  "cells": [
    {
      "cell_type": "markdown",
      "metadata": {
        "id": "3810d808-437e-4891-8031-846610408b55"
      },
      "source": [
        "# Depth Estimation and Object Detection\n",
        "\n",
        "In this notebook, we will be working on a depth estimation and object detection task. The goal is to estimate the depth of objects in an image and identify what those objects are.\n",
        "\n",
        "We will be using several libraries to accomplish this task:\n",
        "\n",
        "- **OpenCV**: Open Source Computer Vision Library, includes several hundreds of computer vision algorithms.\n",
        "- **scikit-image**: A collection of algorithms for image processing.\n",
        "- **timm**: (PyTorch Image Models) includes a slew of models/architectures for PyTorch.\n",
        "- **gTTS**: (Google Text-to-Speech) a Python interface for Google's Text to Speech API.\n",
        "- **torchvision**: consists of popular datasets, model architectures, and common image transformations for computer vision.\n",
        "\n",
        "Let's start by installing these libraries."
      ],
      "id": "3810d808-437e-4891-8031-846610408b55"
    },
    {
      "cell_type": "code",
      "execution_count": 1,
      "metadata": {
        "colab": {
          "base_uri": "https://localhost:8080/"
        },
        "id": "72f8572b-bf8c-4b54-8adc-2417902a9efe",
        "outputId": "f4971bb6-475f-4e5a-d5d6-11d224e0b0a0"
      },
      "outputs": [
        {
          "output_type": "stream",
          "name": "stdout",
          "text": [
            "Requirement already satisfied: opencv-python in /usr/local/lib/python3.10/dist-packages (4.7.0.72)\n",
            "Requirement already satisfied: numpy>=1.21.2 in /usr/local/lib/python3.10/dist-packages (from opencv-python) (1.22.4)\n",
            "Requirement already satisfied: scikit-image in /usr/local/lib/python3.10/dist-packages (0.19.3)\n",
            "Requirement already satisfied: numpy>=1.17.0 in /usr/local/lib/python3.10/dist-packages (from scikit-image) (1.22.4)\n",
            "Requirement already satisfied: scipy>=1.4.1 in /usr/local/lib/python3.10/dist-packages (from scikit-image) (1.10.1)\n",
            "Requirement already satisfied: networkx>=2.2 in /usr/local/lib/python3.10/dist-packages (from scikit-image) (3.1)\n",
            "Requirement already satisfied: pillow!=7.1.0,!=7.1.1,!=8.3.0,>=6.1.0 in /usr/local/lib/python3.10/dist-packages (from scikit-image) (8.4.0)\n",
            "Requirement already satisfied: imageio>=2.4.1 in /usr/local/lib/python3.10/dist-packages (from scikit-image) (2.25.1)\n",
            "Requirement already satisfied: tifffile>=2019.7.26 in /usr/local/lib/python3.10/dist-packages (from scikit-image) (2023.4.12)\n",
            "Requirement already satisfied: PyWavelets>=1.1.1 in /usr/local/lib/python3.10/dist-packages (from scikit-image) (1.4.1)\n",
            "Requirement already satisfied: packaging>=20.0 in /usr/local/lib/python3.10/dist-packages (from scikit-image) (23.1)\n",
            "Requirement already satisfied: timm in /usr/local/lib/python3.10/dist-packages (0.9.2)\n",
            "Requirement already satisfied: torch>=1.7 in /usr/local/lib/python3.10/dist-packages (from timm) (2.0.1+cu118)\n",
            "Requirement already satisfied: torchvision in /usr/local/lib/python3.10/dist-packages (from timm) (0.15.2+cu118)\n",
            "Requirement already satisfied: pyyaml in /usr/local/lib/python3.10/dist-packages (from timm) (6.0)\n",
            "Requirement already satisfied: huggingface-hub in /usr/local/lib/python3.10/dist-packages (from timm) (0.15.1)\n",
            "Requirement already satisfied: safetensors in /usr/local/lib/python3.10/dist-packages (from timm) (0.3.1)\n",
            "Requirement already satisfied: filelock in /usr/local/lib/python3.10/dist-packages (from torch>=1.7->timm) (3.12.2)\n",
            "Requirement already satisfied: typing-extensions in /usr/local/lib/python3.10/dist-packages (from torch>=1.7->timm) (4.6.3)\n",
            "Requirement already satisfied: sympy in /usr/local/lib/python3.10/dist-packages (from torch>=1.7->timm) (1.11.1)\n",
            "Requirement already satisfied: networkx in /usr/local/lib/python3.10/dist-packages (from torch>=1.7->timm) (3.1)\n",
            "Requirement already satisfied: jinja2 in /usr/local/lib/python3.10/dist-packages (from torch>=1.7->timm) (3.1.2)\n",
            "Requirement already satisfied: triton==2.0.0 in /usr/local/lib/python3.10/dist-packages (from torch>=1.7->timm) (2.0.0)\n",
            "Requirement already satisfied: cmake in /usr/local/lib/python3.10/dist-packages (from triton==2.0.0->torch>=1.7->timm) (3.25.2)\n",
            "Requirement already satisfied: lit in /usr/local/lib/python3.10/dist-packages (from triton==2.0.0->torch>=1.7->timm) (16.0.6)\n",
            "Requirement already satisfied: fsspec in /usr/local/lib/python3.10/dist-packages (from huggingface-hub->timm) (2023.6.0)\n",
            "Requirement already satisfied: requests in /usr/local/lib/python3.10/dist-packages (from huggingface-hub->timm) (2.27.1)\n",
            "Requirement already satisfied: tqdm>=4.42.1 in /usr/local/lib/python3.10/dist-packages (from huggingface-hub->timm) (4.65.0)\n",
            "Requirement already satisfied: packaging>=20.9 in /usr/local/lib/python3.10/dist-packages (from huggingface-hub->timm) (23.1)\n",
            "Requirement already satisfied: numpy in /usr/local/lib/python3.10/dist-packages (from torchvision->timm) (1.22.4)\n",
            "Requirement already satisfied: pillow!=8.3.*,>=5.3.0 in /usr/local/lib/python3.10/dist-packages (from torchvision->timm) (8.4.0)\n",
            "Requirement already satisfied: MarkupSafe>=2.0 in /usr/local/lib/python3.10/dist-packages (from jinja2->torch>=1.7->timm) (2.1.3)\n",
            "Requirement already satisfied: urllib3<1.27,>=1.21.1 in /usr/local/lib/python3.10/dist-packages (from requests->huggingface-hub->timm) (1.26.16)\n",
            "Requirement already satisfied: certifi>=2017.4.17 in /usr/local/lib/python3.10/dist-packages (from requests->huggingface-hub->timm) (2023.5.7)\n",
            "Requirement already satisfied: charset-normalizer~=2.0.0 in /usr/local/lib/python3.10/dist-packages (from requests->huggingface-hub->timm) (2.0.12)\n",
            "Requirement already satisfied: idna<4,>=2.5 in /usr/local/lib/python3.10/dist-packages (from requests->huggingface-hub->timm) (3.4)\n",
            "Requirement already satisfied: mpmath>=0.19 in /usr/local/lib/python3.10/dist-packages (from sympy->torch>=1.7->timm) (1.3.0)\n",
            "Requirement already satisfied: gTTS in /usr/local/lib/python3.10/dist-packages (2.3.2)\n",
            "Requirement already satisfied: requests<3,>=2.27 in /usr/local/lib/python3.10/dist-packages (from gTTS) (2.27.1)\n",
            "Requirement already satisfied: click<8.2,>=7.1 in /usr/local/lib/python3.10/dist-packages (from gTTS) (8.1.3)\n",
            "Requirement already satisfied: urllib3<1.27,>=1.21.1 in /usr/local/lib/python3.10/dist-packages (from requests<3,>=2.27->gTTS) (1.26.16)\n",
            "Requirement already satisfied: certifi>=2017.4.17 in /usr/local/lib/python3.10/dist-packages (from requests<3,>=2.27->gTTS) (2023.5.7)\n",
            "Requirement already satisfied: charset-normalizer~=2.0.0 in /usr/local/lib/python3.10/dist-packages (from requests<3,>=2.27->gTTS) (2.0.12)\n",
            "Requirement already satisfied: idna<4,>=2.5 in /usr/local/lib/python3.10/dist-packages (from requests<3,>=2.27->gTTS) (3.4)\n",
            "Requirement already satisfied: torchvision in /usr/local/lib/python3.10/dist-packages (0.15.2+cu118)\n",
            "Requirement already satisfied: numpy in /usr/local/lib/python3.10/dist-packages (from torchvision) (1.22.4)\n",
            "Requirement already satisfied: requests in /usr/local/lib/python3.10/dist-packages (from torchvision) (2.27.1)\n",
            "Requirement already satisfied: torch==2.0.1 in /usr/local/lib/python3.10/dist-packages (from torchvision) (2.0.1+cu118)\n",
            "Requirement already satisfied: pillow!=8.3.*,>=5.3.0 in /usr/local/lib/python3.10/dist-packages (from torchvision) (8.4.0)\n",
            "Requirement already satisfied: filelock in /usr/local/lib/python3.10/dist-packages (from torch==2.0.1->torchvision) (3.12.2)\n",
            "Requirement already satisfied: typing-extensions in /usr/local/lib/python3.10/dist-packages (from torch==2.0.1->torchvision) (4.6.3)\n",
            "Requirement already satisfied: sympy in /usr/local/lib/python3.10/dist-packages (from torch==2.0.1->torchvision) (1.11.1)\n",
            "Requirement already satisfied: networkx in /usr/local/lib/python3.10/dist-packages (from torch==2.0.1->torchvision) (3.1)\n",
            "Requirement already satisfied: jinja2 in /usr/local/lib/python3.10/dist-packages (from torch==2.0.1->torchvision) (3.1.2)\n",
            "Requirement already satisfied: triton==2.0.0 in /usr/local/lib/python3.10/dist-packages (from torch==2.0.1->torchvision) (2.0.0)\n",
            "Requirement already satisfied: cmake in /usr/local/lib/python3.10/dist-packages (from triton==2.0.0->torch==2.0.1->torchvision) (3.25.2)\n",
            "Requirement already satisfied: lit in /usr/local/lib/python3.10/dist-packages (from triton==2.0.0->torch==2.0.1->torchvision) (16.0.6)\n",
            "Requirement already satisfied: urllib3<1.27,>=1.21.1 in /usr/local/lib/python3.10/dist-packages (from requests->torchvision) (1.26.16)\n",
            "Requirement already satisfied: certifi>=2017.4.17 in /usr/local/lib/python3.10/dist-packages (from requests->torchvision) (2023.5.7)\n",
            "Requirement already satisfied: charset-normalizer~=2.0.0 in /usr/local/lib/python3.10/dist-packages (from requests->torchvision) (2.0.12)\n",
            "Requirement already satisfied: idna<4,>=2.5 in /usr/local/lib/python3.10/dist-packages (from requests->torchvision) (3.4)\n",
            "Requirement already satisfied: MarkupSafe>=2.0 in /usr/local/lib/python3.10/dist-packages (from jinja2->torch==2.0.1->torchvision) (2.1.3)\n",
            "Requirement already satisfied: mpmath>=0.19 in /usr/local/lib/python3.10/dist-packages (from sympy->torch==2.0.1->torchvision) (1.3.0)\n"
          ]
        }
      ],
      "source": [
        "!pip install opencv-python\n",
        "!pip install scikit-image\n",
        "!pip install timm\n",
        "!pip install gTTS\n",
        "!pip install torchvision\n"
      ],
      "id": "72f8572b-bf8c-4b54-8adc-2417902a9efe"
    },
    {
      "cell_type": "markdown",
      "metadata": {
        "id": "1cfa80a7-628c-4884-b96a-cb59e55bfeef"
      },
      "source": [
        "Now that we have installed the necessary libraries, let's import them."
      ],
      "id": "1cfa80a7-628c-4884-b96a-cb59e55bfeef"
    },
    {
      "cell_type": "code",
      "execution_count": 2,
      "metadata": {
        "id": "6be9cf6e-3507-4881-965c-6e0439b06013"
      },
      "outputs": [],
      "source": [
        "\n",
        "import cv2\n",
        "import skimage\n",
        "from skimage.io import imread, imshow\n",
        "from skimage.color import rgb2hsv\n",
        "import numpy as np\n",
        "import matplotlib.pyplot as plt\n",
        "import torch\n",
        "import ipywidgets as widgets\n",
        "from IPython.display import display\n",
        "from PIL import Image\n",
        "import io\n",
        "from gtts import gTTS\n",
        "from IPython.display import Audio\n",
        "import torchvision\n",
        "from torchvision.models.detection import fasterrcnn_resnet50_fpn\n",
        "from torchvision import transforms\n"
      ],
      "id": "6be9cf6e-3507-4881-965c-6e0439b06013"
    },
    {
      "cell_type": "markdown",
      "metadata": {
        "id": "4eec89cb-9e4a-43ec-9857-f98323f76297"
      },
      "source": [
        "In this task, we will be segmenting the depth map into different ranges and assigning a color to each range. We will also be providing a verbal description for each range. Let's define the ranges, their corresponding colors, and the verbal descriptions."
      ],
      "id": "4eec89cb-9e4a-43ec-9857-f98323f76297"
    },
    {
      "cell_type": "code",
      "execution_count": 3,
      "metadata": {
        "id": "9558dc30-85a2-4178-94f8-cd19aa3a9619"
      },
      "outputs": [],
      "source": [
        "\n",
        "# Define the ranges for depth segmentation\n",
        "ranges = [[0.0, 0.2], [0.2, 0.4], [0.4, 0.6], [0.6, 0.8], [0.8, 1.0]]\n",
        "\n",
        "# Define verbal descriptions for each range\n",
        "distance_descriptions = [\"far\", \"mid-range\", \"close\", \"very close\", \"extremely close\"]\n",
        "\n",
        "# Define colors for each range\n",
        "colors = [[255, 0, 0], [0, 255, 0], [0, 0, 255], [255, 255, 0], [0, 255, 255]]\n",
        "\n",
        "\n",
        "COCO_INSTANCE_CATEGORY_NAMES = [\n",
        "    'background', 'person', 'bicycle', 'car', 'motorcycle', 'airplane', 'bus',\n",
        "    'train', 'truck', 'boat', 'traffic light', 'fire hydrant', 'N/A', 'stop sign',\n",
        "    'parking meter', 'bench', 'bird', 'cat', 'dog', 'horse', 'sheep', 'cow',\n",
        "    'elephant', 'bear', 'zebra', 'giraffe', 'N/A', 'backpack', 'umbrella', 'N/A', 'N/A',\n",
        "    'handbag', 'tie', 'suitcase', 'frisbee', 'skis', 'snowboard', 'sports ball',\n",
        "    'kite', 'baseball bat', 'baseball glove', 'skateboard', 'surfboard', 'tennis racket',\n",
        "    'bottle', 'N/A', 'wine glass', 'cup', 'fork', 'knife', 'spoon', 'bowl',\n",
        "    'banana', 'apple', 'sandwich', 'orange', 'broccoli', 'carrot', 'hot dog', 'pizza',\n",
        "    'donut', 'cake', 'chair', 'couch', 'potted plant', 'bed', 'N/A', 'dining table',\n",
        "    'N/A', 'N/A', 'toilet', 'N/A', 'tv', 'laptop', 'mouse', 'remote', 'keyboard', 'cell phone',\n",
        "    'microwave', 'oven', 'toaster', 'sink', 'refrigerator', 'N/A', 'book',\n",
        "    'clock', 'vase', 'scissors', 'teddy bear', 'hair drier', 'toothbrush'\n",
        "]"
      ],
      "id": "9558dc30-85a2-4178-94f8-cd19aa3a9619"
    },
    {
      "cell_type": "markdown",
      "metadata": {
        "id": "d1d7a967-6555-4df2-bddc-68870d18041b"
      },
      "source": [
        "Next, we will define a function to segment the depth map into the defined ranges and color each segment with the corresponding color. This function will also count the number of pixels in each segment."
      ],
      "id": "d1d7a967-6555-4df2-bddc-68870d18041b"
    },
    {
      "cell_type": "code",
      "execution_count": 4,
      "metadata": {
        "id": "f295f60a-357c-4cde-91ce-0ac094b630ab"
      },
      "outputs": [],
      "source": [
        "def segment_and_color_depth_map(depth_map, ranges, colors):\n",
        "    color_map = np.zeros((*depth_map.shape, 3), dtype=np.uint8)\n",
        "    counts = []\n",
        "\n",
        "    for r, color in zip(ranges, colors):\n",
        "        mask = (depth_map > r[0]) & (depth_map <= r[1])\n",
        "        color_map[mask] = color\n",
        "        counts.append(np.count_nonzero(mask))\n",
        "\n",
        "    return color_map, counts"
      ],
      "id": "f295f60a-357c-4cde-91ce-0ac094b630ab"
    },
    {
      "cell_type": "markdown",
      "metadata": {
        "id": "e3c178e6-c546-48a5-a16b-f3687918a4a1"
      },
      "source": [
        "We will be using the MiDaS model for depth estimation. MiDaS stands for Multi-Instance Depth Aggregation System. It is a model trained by Intel Labs for monocular depth estimation. The model takes an RGB image as input and produces a depth map as output. The depth map indicates the distance of each pixel in the image from the camera.\n",
        "\n",
        "Let's load the MiDaS model and move it to the GPU if available."
      ],
      "id": "e3c178e6-c546-48a5-a16b-f3687918a4a1"
    },
    {
      "cell_type": "markdown",
      "metadata": {
        "id": "644e2c6f-500a-4915-88e3-f7fd0c1c2215"
      },
      "source": [
        "The MiDaS model requires the input image to be transformed in a certain way before it can be passed into the model. The required transformations are provided by the MiDaS team and can be loaded from their GitHub repository.\n",
        "\n",
        "Let's load these transformations."
      ],
      "id": "644e2c6f-500a-4915-88e3-f7fd0c1c2215"
    },
    {
      "cell_type": "markdown",
      "metadata": {
        "id": "ea5c3bf0-08e4-4375-ac24-0cbcd8daef90"
      },
      "source": [
        "For object detection, we will be using the Faster R-CNN model with a ResNet-50 backbone pre-trained on the COCO dataset. The COCO dataset is a large-scale object detection, segmentation, and captioning dataset that contains over 200,000 labeled images.\n",
        "\n",
        "Let's load the object detection model and move it to the GPU if available."
      ],
      "id": "ea5c3bf0-08e4-4375-ac24-0cbcd8daef90"
    },
    {
      "cell_type": "code",
      "execution_count": 5,
      "metadata": {
        "colab": {
          "base_uri": "https://localhost:8080/"
        },
        "id": "fbcf14c3-1a20-4327-bba2-681698ca8d0d",
        "outputId": "0e818e89-248b-4149-988c-bbf7eb624083"
      },
      "outputs": [
        {
          "output_type": "stream",
          "name": "stderr",
          "text": [
            "Using cache found in /root/.cache/torch/hub/intel-isl_MiDaS_master\n",
            "Using cache found in /root/.cache/torch/hub/intel-isl_MiDaS_master\n",
            "/usr/local/lib/python3.10/dist-packages/torchvision/models/_utils.py:208: UserWarning: The parameter 'pretrained' is deprecated since 0.13 and may be removed in the future, please use 'weights' instead.\n",
            "  warnings.warn(\n",
            "/usr/local/lib/python3.10/dist-packages/torchvision/models/_utils.py:223: UserWarning: Arguments other than a weight enum or `None` for 'weights' are deprecated since 0.13 and may be removed in the future. The current behavior is equivalent to passing `weights=FasterRCNN_ResNet50_FPN_Weights.COCO_V1`. You can also use `weights=FasterRCNN_ResNet50_FPN_Weights.DEFAULT` to get the most up-to-date weights.\n",
            "  warnings.warn(msg)\n"
          ]
        },
        {
          "output_type": "execute_result",
          "data": {
            "text/plain": [
              "FasterRCNN(\n",
              "  (transform): GeneralizedRCNNTransform(\n",
              "      Normalize(mean=[0.485, 0.456, 0.406], std=[0.229, 0.224, 0.225])\n",
              "      Resize(min_size=(800,), max_size=1333, mode='bilinear')\n",
              "  )\n",
              "  (backbone): BackboneWithFPN(\n",
              "    (body): IntermediateLayerGetter(\n",
              "      (conv1): Conv2d(3, 64, kernel_size=(7, 7), stride=(2, 2), padding=(3, 3), bias=False)\n",
              "      (bn1): FrozenBatchNorm2d(64, eps=0.0)\n",
              "      (relu): ReLU(inplace=True)\n",
              "      (maxpool): MaxPool2d(kernel_size=3, stride=2, padding=1, dilation=1, ceil_mode=False)\n",
              "      (layer1): Sequential(\n",
              "        (0): Bottleneck(\n",
              "          (conv1): Conv2d(64, 64, kernel_size=(1, 1), stride=(1, 1), bias=False)\n",
              "          (bn1): FrozenBatchNorm2d(64, eps=0.0)\n",
              "          (conv2): Conv2d(64, 64, kernel_size=(3, 3), stride=(1, 1), padding=(1, 1), bias=False)\n",
              "          (bn2): FrozenBatchNorm2d(64, eps=0.0)\n",
              "          (conv3): Conv2d(64, 256, kernel_size=(1, 1), stride=(1, 1), bias=False)\n",
              "          (bn3): FrozenBatchNorm2d(256, eps=0.0)\n",
              "          (relu): ReLU(inplace=True)\n",
              "          (downsample): Sequential(\n",
              "            (0): Conv2d(64, 256, kernel_size=(1, 1), stride=(1, 1), bias=False)\n",
              "            (1): FrozenBatchNorm2d(256, eps=0.0)\n",
              "          )\n",
              "        )\n",
              "        (1): Bottleneck(\n",
              "          (conv1): Conv2d(256, 64, kernel_size=(1, 1), stride=(1, 1), bias=False)\n",
              "          (bn1): FrozenBatchNorm2d(64, eps=0.0)\n",
              "          (conv2): Conv2d(64, 64, kernel_size=(3, 3), stride=(1, 1), padding=(1, 1), bias=False)\n",
              "          (bn2): FrozenBatchNorm2d(64, eps=0.0)\n",
              "          (conv3): Conv2d(64, 256, kernel_size=(1, 1), stride=(1, 1), bias=False)\n",
              "          (bn3): FrozenBatchNorm2d(256, eps=0.0)\n",
              "          (relu): ReLU(inplace=True)\n",
              "        )\n",
              "        (2): Bottleneck(\n",
              "          (conv1): Conv2d(256, 64, kernel_size=(1, 1), stride=(1, 1), bias=False)\n",
              "          (bn1): FrozenBatchNorm2d(64, eps=0.0)\n",
              "          (conv2): Conv2d(64, 64, kernel_size=(3, 3), stride=(1, 1), padding=(1, 1), bias=False)\n",
              "          (bn2): FrozenBatchNorm2d(64, eps=0.0)\n",
              "          (conv3): Conv2d(64, 256, kernel_size=(1, 1), stride=(1, 1), bias=False)\n",
              "          (bn3): FrozenBatchNorm2d(256, eps=0.0)\n",
              "          (relu): ReLU(inplace=True)\n",
              "        )\n",
              "      )\n",
              "      (layer2): Sequential(\n",
              "        (0): Bottleneck(\n",
              "          (conv1): Conv2d(256, 128, kernel_size=(1, 1), stride=(1, 1), bias=False)\n",
              "          (bn1): FrozenBatchNorm2d(128, eps=0.0)\n",
              "          (conv2): Conv2d(128, 128, kernel_size=(3, 3), stride=(2, 2), padding=(1, 1), bias=False)\n",
              "          (bn2): FrozenBatchNorm2d(128, eps=0.0)\n",
              "          (conv3): Conv2d(128, 512, kernel_size=(1, 1), stride=(1, 1), bias=False)\n",
              "          (bn3): FrozenBatchNorm2d(512, eps=0.0)\n",
              "          (relu): ReLU(inplace=True)\n",
              "          (downsample): Sequential(\n",
              "            (0): Conv2d(256, 512, kernel_size=(1, 1), stride=(2, 2), bias=False)\n",
              "            (1): FrozenBatchNorm2d(512, eps=0.0)\n",
              "          )\n",
              "        )\n",
              "        (1): Bottleneck(\n",
              "          (conv1): Conv2d(512, 128, kernel_size=(1, 1), stride=(1, 1), bias=False)\n",
              "          (bn1): FrozenBatchNorm2d(128, eps=0.0)\n",
              "          (conv2): Conv2d(128, 128, kernel_size=(3, 3), stride=(1, 1), padding=(1, 1), bias=False)\n",
              "          (bn2): FrozenBatchNorm2d(128, eps=0.0)\n",
              "          (conv3): Conv2d(128, 512, kernel_size=(1, 1), stride=(1, 1), bias=False)\n",
              "          (bn3): FrozenBatchNorm2d(512, eps=0.0)\n",
              "          (relu): ReLU(inplace=True)\n",
              "        )\n",
              "        (2): Bottleneck(\n",
              "          (conv1): Conv2d(512, 128, kernel_size=(1, 1), stride=(1, 1), bias=False)\n",
              "          (bn1): FrozenBatchNorm2d(128, eps=0.0)\n",
              "          (conv2): Conv2d(128, 128, kernel_size=(3, 3), stride=(1, 1), padding=(1, 1), bias=False)\n",
              "          (bn2): FrozenBatchNorm2d(128, eps=0.0)\n",
              "          (conv3): Conv2d(128, 512, kernel_size=(1, 1), stride=(1, 1), bias=False)\n",
              "          (bn3): FrozenBatchNorm2d(512, eps=0.0)\n",
              "          (relu): ReLU(inplace=True)\n",
              "        )\n",
              "        (3): Bottleneck(\n",
              "          (conv1): Conv2d(512, 128, kernel_size=(1, 1), stride=(1, 1), bias=False)\n",
              "          (bn1): FrozenBatchNorm2d(128, eps=0.0)\n",
              "          (conv2): Conv2d(128, 128, kernel_size=(3, 3), stride=(1, 1), padding=(1, 1), bias=False)\n",
              "          (bn2): FrozenBatchNorm2d(128, eps=0.0)\n",
              "          (conv3): Conv2d(128, 512, kernel_size=(1, 1), stride=(1, 1), bias=False)\n",
              "          (bn3): FrozenBatchNorm2d(512, eps=0.0)\n",
              "          (relu): ReLU(inplace=True)\n",
              "        )\n",
              "      )\n",
              "      (layer3): Sequential(\n",
              "        (0): Bottleneck(\n",
              "          (conv1): Conv2d(512, 256, kernel_size=(1, 1), stride=(1, 1), bias=False)\n",
              "          (bn1): FrozenBatchNorm2d(256, eps=0.0)\n",
              "          (conv2): Conv2d(256, 256, kernel_size=(3, 3), stride=(2, 2), padding=(1, 1), bias=False)\n",
              "          (bn2): FrozenBatchNorm2d(256, eps=0.0)\n",
              "          (conv3): Conv2d(256, 1024, kernel_size=(1, 1), stride=(1, 1), bias=False)\n",
              "          (bn3): FrozenBatchNorm2d(1024, eps=0.0)\n",
              "          (relu): ReLU(inplace=True)\n",
              "          (downsample): Sequential(\n",
              "            (0): Conv2d(512, 1024, kernel_size=(1, 1), stride=(2, 2), bias=False)\n",
              "            (1): FrozenBatchNorm2d(1024, eps=0.0)\n",
              "          )\n",
              "        )\n",
              "        (1): Bottleneck(\n",
              "          (conv1): Conv2d(1024, 256, kernel_size=(1, 1), stride=(1, 1), bias=False)\n",
              "          (bn1): FrozenBatchNorm2d(256, eps=0.0)\n",
              "          (conv2): Conv2d(256, 256, kernel_size=(3, 3), stride=(1, 1), padding=(1, 1), bias=False)\n",
              "          (bn2): FrozenBatchNorm2d(256, eps=0.0)\n",
              "          (conv3): Conv2d(256, 1024, kernel_size=(1, 1), stride=(1, 1), bias=False)\n",
              "          (bn3): FrozenBatchNorm2d(1024, eps=0.0)\n",
              "          (relu): ReLU(inplace=True)\n",
              "        )\n",
              "        (2): Bottleneck(\n",
              "          (conv1): Conv2d(1024, 256, kernel_size=(1, 1), stride=(1, 1), bias=False)\n",
              "          (bn1): FrozenBatchNorm2d(256, eps=0.0)\n",
              "          (conv2): Conv2d(256, 256, kernel_size=(3, 3), stride=(1, 1), padding=(1, 1), bias=False)\n",
              "          (bn2): FrozenBatchNorm2d(256, eps=0.0)\n",
              "          (conv3): Conv2d(256, 1024, kernel_size=(1, 1), stride=(1, 1), bias=False)\n",
              "          (bn3): FrozenBatchNorm2d(1024, eps=0.0)\n",
              "          (relu): ReLU(inplace=True)\n",
              "        )\n",
              "        (3): Bottleneck(\n",
              "          (conv1): Conv2d(1024, 256, kernel_size=(1, 1), stride=(1, 1), bias=False)\n",
              "          (bn1): FrozenBatchNorm2d(256, eps=0.0)\n",
              "          (conv2): Conv2d(256, 256, kernel_size=(3, 3), stride=(1, 1), padding=(1, 1), bias=False)\n",
              "          (bn2): FrozenBatchNorm2d(256, eps=0.0)\n",
              "          (conv3): Conv2d(256, 1024, kernel_size=(1, 1), stride=(1, 1), bias=False)\n",
              "          (bn3): FrozenBatchNorm2d(1024, eps=0.0)\n",
              "          (relu): ReLU(inplace=True)\n",
              "        )\n",
              "        (4): Bottleneck(\n",
              "          (conv1): Conv2d(1024, 256, kernel_size=(1, 1), stride=(1, 1), bias=False)\n",
              "          (bn1): FrozenBatchNorm2d(256, eps=0.0)\n",
              "          (conv2): Conv2d(256, 256, kernel_size=(3, 3), stride=(1, 1), padding=(1, 1), bias=False)\n",
              "          (bn2): FrozenBatchNorm2d(256, eps=0.0)\n",
              "          (conv3): Conv2d(256, 1024, kernel_size=(1, 1), stride=(1, 1), bias=False)\n",
              "          (bn3): FrozenBatchNorm2d(1024, eps=0.0)\n",
              "          (relu): ReLU(inplace=True)\n",
              "        )\n",
              "        (5): Bottleneck(\n",
              "          (conv1): Conv2d(1024, 256, kernel_size=(1, 1), stride=(1, 1), bias=False)\n",
              "          (bn1): FrozenBatchNorm2d(256, eps=0.0)\n",
              "          (conv2): Conv2d(256, 256, kernel_size=(3, 3), stride=(1, 1), padding=(1, 1), bias=False)\n",
              "          (bn2): FrozenBatchNorm2d(256, eps=0.0)\n",
              "          (conv3): Conv2d(256, 1024, kernel_size=(1, 1), stride=(1, 1), bias=False)\n",
              "          (bn3): FrozenBatchNorm2d(1024, eps=0.0)\n",
              "          (relu): ReLU(inplace=True)\n",
              "        )\n",
              "      )\n",
              "      (layer4): Sequential(\n",
              "        (0): Bottleneck(\n",
              "          (conv1): Conv2d(1024, 512, kernel_size=(1, 1), stride=(1, 1), bias=False)\n",
              "          (bn1): FrozenBatchNorm2d(512, eps=0.0)\n",
              "          (conv2): Conv2d(512, 512, kernel_size=(3, 3), stride=(2, 2), padding=(1, 1), bias=False)\n",
              "          (bn2): FrozenBatchNorm2d(512, eps=0.0)\n",
              "          (conv3): Conv2d(512, 2048, kernel_size=(1, 1), stride=(1, 1), bias=False)\n",
              "          (bn3): FrozenBatchNorm2d(2048, eps=0.0)\n",
              "          (relu): ReLU(inplace=True)\n",
              "          (downsample): Sequential(\n",
              "            (0): Conv2d(1024, 2048, kernel_size=(1, 1), stride=(2, 2), bias=False)\n",
              "            (1): FrozenBatchNorm2d(2048, eps=0.0)\n",
              "          )\n",
              "        )\n",
              "        (1): Bottleneck(\n",
              "          (conv1): Conv2d(2048, 512, kernel_size=(1, 1), stride=(1, 1), bias=False)\n",
              "          (bn1): FrozenBatchNorm2d(512, eps=0.0)\n",
              "          (conv2): Conv2d(512, 512, kernel_size=(3, 3), stride=(1, 1), padding=(1, 1), bias=False)\n",
              "          (bn2): FrozenBatchNorm2d(512, eps=0.0)\n",
              "          (conv3): Conv2d(512, 2048, kernel_size=(1, 1), stride=(1, 1), bias=False)\n",
              "          (bn3): FrozenBatchNorm2d(2048, eps=0.0)\n",
              "          (relu): ReLU(inplace=True)\n",
              "        )\n",
              "        (2): Bottleneck(\n",
              "          (conv1): Conv2d(2048, 512, kernel_size=(1, 1), stride=(1, 1), bias=False)\n",
              "          (bn1): FrozenBatchNorm2d(512, eps=0.0)\n",
              "          (conv2): Conv2d(512, 512, kernel_size=(3, 3), stride=(1, 1), padding=(1, 1), bias=False)\n",
              "          (bn2): FrozenBatchNorm2d(512, eps=0.0)\n",
              "          (conv3): Conv2d(512, 2048, kernel_size=(1, 1), stride=(1, 1), bias=False)\n",
              "          (bn3): FrozenBatchNorm2d(2048, eps=0.0)\n",
              "          (relu): ReLU(inplace=True)\n",
              "        )\n",
              "      )\n",
              "    )\n",
              "    (fpn): FeaturePyramidNetwork(\n",
              "      (inner_blocks): ModuleList(\n",
              "        (0): Conv2dNormActivation(\n",
              "          (0): Conv2d(256, 256, kernel_size=(1, 1), stride=(1, 1))\n",
              "        )\n",
              "        (1): Conv2dNormActivation(\n",
              "          (0): Conv2d(512, 256, kernel_size=(1, 1), stride=(1, 1))\n",
              "        )\n",
              "        (2): Conv2dNormActivation(\n",
              "          (0): Conv2d(1024, 256, kernel_size=(1, 1), stride=(1, 1))\n",
              "        )\n",
              "        (3): Conv2dNormActivation(\n",
              "          (0): Conv2d(2048, 256, kernel_size=(1, 1), stride=(1, 1))\n",
              "        )\n",
              "      )\n",
              "      (layer_blocks): ModuleList(\n",
              "        (0-3): 4 x Conv2dNormActivation(\n",
              "          (0): Conv2d(256, 256, kernel_size=(3, 3), stride=(1, 1), padding=(1, 1))\n",
              "        )\n",
              "      )\n",
              "      (extra_blocks): LastLevelMaxPool()\n",
              "    )\n",
              "  )\n",
              "  (rpn): RegionProposalNetwork(\n",
              "    (anchor_generator): AnchorGenerator()\n",
              "    (head): RPNHead(\n",
              "      (conv): Sequential(\n",
              "        (0): Conv2dNormActivation(\n",
              "          (0): Conv2d(256, 256, kernel_size=(3, 3), stride=(1, 1), padding=(1, 1))\n",
              "          (1): ReLU(inplace=True)\n",
              "        )\n",
              "      )\n",
              "      (cls_logits): Conv2d(256, 3, kernel_size=(1, 1), stride=(1, 1))\n",
              "      (bbox_pred): Conv2d(256, 12, kernel_size=(1, 1), stride=(1, 1))\n",
              "    )\n",
              "  )\n",
              "  (roi_heads): RoIHeads(\n",
              "    (box_roi_pool): MultiScaleRoIAlign(featmap_names=['0', '1', '2', '3'], output_size=(7, 7), sampling_ratio=2)\n",
              "    (box_head): TwoMLPHead(\n",
              "      (fc6): Linear(in_features=12544, out_features=1024, bias=True)\n",
              "      (fc7): Linear(in_features=1024, out_features=1024, bias=True)\n",
              "    )\n",
              "    (box_predictor): FastRCNNPredictor(\n",
              "      (cls_score): Linear(in_features=1024, out_features=91, bias=True)\n",
              "      (bbox_pred): Linear(in_features=1024, out_features=364, bias=True)\n",
              "    )\n",
              "  )\n",
              ")"
            ]
          },
          "metadata": {},
          "execution_count": 5
        }
      ],
      "source": [
        "\n",
        "# Load the depth estimation model\n",
        "model_type = \"DPT_Large\"\n",
        "midas = torch.hub.load(\"intel-isl/MiDaS\", model_type)\n",
        "device = torch.device(\"cuda\") if torch.cuda.is_available() else torch.device(\"cpu\")\n",
        "midas.to(device)\n",
        "midas.eval()\n",
        "\n",
        "# Define the transformations for depth estimation\n",
        "midas_transforms = torch.hub.load(\"intel-isl/MiDaS\", \"transforms\")\n",
        "if model_type == \"DPT_Large\" or model_type == \"DPT_Hybrid\":\n",
        "    transform_midas = midas_transforms.dpt_transform\n",
        "else:\n",
        "    transform_midas = midas_transforms.small_transform\n",
        "\n",
        "# Load the object detection model\n",
        "model_detection = fasterrcnn_resnet50_fpn(pretrained=True)\n",
        "model_detection = model_detection.to(device)\n",
        "model_detection.eval()\n"
      ],
      "id": "fbcf14c3-1a20-4327-bba2-681698ca8d0d"
    },
    {
      "cell_type": "markdown",
      "metadata": {
        "id": "3ab8f24d-0ebe-4140-a535-b75a7943ae45"
      },
      "source": [
        "The object detection model also requires the input image to be transformed in a certain way before it can be passed into the model. We will define these transformations using the `transforms` module from `torchvision`."
      ],
      "id": "3ab8f24d-0ebe-4140-a535-b75a7943ae45"
    },
    {
      "cell_type": "markdown",
      "metadata": {
        "id": "043ac758-d2ed-4ea8-b802-8ab41b174153"
      },
      "source": [
        "We will be using widgets to allow the user to upload an image and run the depth estimation and object detection on the uploaded image. Let's create these widgets."
      ],
      "id": "043ac758-d2ed-4ea8-b802-8ab41b174153"
    },
    {
      "cell_type": "code",
      "execution_count": 6,
      "metadata": {
        "id": "9461d526-da6e-42c0-b319-17c84f46a487"
      },
      "outputs": [],
      "source": [
        "# Define the transformations for object detection\n",
        "transform_detection = transforms.Compose([\n",
        "    transforms.ToPILImage(),\n",
        "    transforms.Resize((800, 800)),\n",
        "    transforms.ToTensor()\n",
        "])\n",
        "\n",
        "upload_button = widgets.FileUpload()\n",
        "run_button = widgets.Button(description=\"Run depth estimation\")\n",
        "output_widget = widgets.Output()\n"
      ],
      "id": "9461d526-da6e-42c0-b319-17c84f46a487"
    },
    {
      "cell_type": "markdown",
      "metadata": {
        "id": "33b77716-e947-458f-b92e-56127d827173"
      },
      "source": [
        "Now, we will define a function that will be executed when the 'Run depth estimation' button is clicked. This function will perform the following steps:\n",
        "\n",
        "1. Clear the output widget.\n",
        "2. Retrieve the uploaded file and read it as an image.\n",
        "3. Convert the image to RGB format.\n",
        "4. Apply the necessary transformations and run depth estimation using the MiDaS model.\n",
        "5. Normalize the output depth map.\n",
        "6. Apply the necessary transformations and run object detection using the Faster R-CNN model.\n",
        "7. Extract the bounding boxes and labels of the detected objects.\n",
        "8. Segment and color the depth map using the function we defined earlier.\n",
        "9. Determine the dominant distance range in the depth map and generate a verbal description.\n",
        "10. If an object was detected, generate a verbal description of the object and its distance from the camera.\n",
        "11. Convert the verbal description to speech using the gTTS library and play the speech.\n",
        "12. Display the depth map and the colored depth map in the output widget."
      ],
      "id": "33b77716-e947-458f-b92e-56127d827173"
    },
    {
      "cell_type": "code",
      "execution_count": 7,
      "metadata": {
        "id": "a8ca75cd-9cb6-4015-a133-fc31eadc7932"
      },
      "outputs": [],
      "source": [
        "\n",
        "def on_run_button_clicked(b):\n",
        "    output_widget.clear_output()\n",
        "    uploaded_file = list(upload_button.value.values())[0]\n",
        "    image_data = uploaded_file['content']\n",
        "    image = Image.open(io.BytesIO(image_data))\n",
        "    image_rgb = cv2.cvtColor(np.array(image), cv2.COLOR_BGR2RGB)\n",
        "\n",
        "    # Apply transformations and run depth estimation\n",
        "    input_batch = transform_midas(image_rgb).to(device)\n",
        "    with torch.no_grad():\n",
        "        prediction = midas(input_batch)\n",
        "        prediction = torch.nn.functional.interpolate(\n",
        "            prediction.unsqueeze(1),\n",
        "            size=image_rgb.shape[:2],\n",
        "            mode=\"bicubic\",\n",
        "            align_corners=False,\n",
        "        ).squeeze()\n",
        "    output = prediction.cpu().numpy()\n",
        "    output = (output - output.min()) / (output.max() - output.min())\n",
        "\n",
        "    # Apply transformations and run object detection\n",
        "    input_batch_detection = transform_detection(image_rgb).unsqueeze(0).to(device)\n",
        "    with torch.no_grad():\n",
        "        predictions = model_detection(input_batch_detection)\n",
        "\n",
        "    pred_score = list(predictions[0]['scores'].detach().cpu().numpy())\n",
        "    pred_t = [pred_score.index(x) for x in pred_score if x > 0.5][-1]\n",
        "    pred_boxes = [[(i[0], i[1]), (i[2], i[3])] for i in list(predictions[0]['boxes'].detach().cpu().numpy())]\n",
        "    pred_boxes = pred_boxes[:pred_t + 1]\n",
        "    pred_class = [COCO_INSTANCE_CATEGORY_NAMES[i] for i in list(predictions[0]['labels'].cpu().numpy())]\n",
        "    pred_class = pred_class[:pred_t + 1]\n",
        "\n",
        "    color_map, counts = segment_and_color_depth_map(output, ranges, colors)\n",
        "    dominant_description = distance_descriptions[np.argmax(counts)]\n",
        "    dominant_range_text = f\"The dominant distance is: {dominant_description}\"\n",
        "\n",
        "    if pred_class:\n",
        "        object_description = f\"The object in front of you is a {pred_class[0]} and it's {dominant_description}\"\n",
        "        print(object_description)\n",
        "        tts = gTTS(object_description)\n",
        "        tts.save('object_description.wav')\n",
        "        sound_file = 'object_description.wav'\n",
        "        display(Audio(sound_file, autoplay=True))\n",
        "\n",
        "    with output_widget:\n",
        "        plt.imshow(output)\n",
        "        plt.show()\n",
        "        plt.imshow(color_map)\n",
        "        plt.show()\n",
        "\n",
        "\n"
      ],
      "id": "a8ca75cd-9cb6-4015-a133-fc31eadc7932"
    },
    {
      "cell_type": "markdown",
      "metadata": {
        "id": "fb6d03f2-06c0-42d6-a320-2bb3976207cd"
      },
      "source": [
        "Finally, let's display the widgets. The user can now upload an image and click the 'Run depth estimation' button to run depth estimation and object detection on the uploaded image."
      ],
      "id": "fb6d03f2-06c0-42d6-a320-2bb3976207cd"
    },
    {
      "cell_type": "code",
      "execution_count": 8,
      "metadata": {
        "id": "TSGk1FaJIq36",
        "colab": {
          "base_uri": "https://localhost:8080/",
          "height": 943,
          "referenced_widgets": [
            "f7b9a7322a734f90ad2710f84b2e873f",
            "4aeeecf69a6d4952b1778421d983277d",
            "ef4ac0dbe420459291c42294b83ef96e",
            "535a089b9f6b46f1b5fa4fd58142e329",
            "cc7f3059b20b40949ab6bd7f43caee52",
            "4b6210d5a4e64d948118844436b6f57b",
            "2dc9686260e946ea96623dd72dbd18d3",
            "dd1993f365d54701bb95db1f7780ae71"
          ]
        },
        "outputId": "17ccc9b3-3dcc-4cfb-ebdb-676c6a0873ef"
      },
      "outputs": [
        {
          "output_type": "display_data",
          "data": {
            "text/plain": [
              "FileUpload(value={}, description='Upload')"
            ],
            "application/vnd.jupyter.widget-view+json": {
              "version_major": 2,
              "version_minor": 0,
              "model_id": "f7b9a7322a734f90ad2710f84b2e873f"
            }
          },
          "metadata": {}
        },
        {
          "output_type": "display_data",
          "data": {
            "text/plain": [
              "Button(description='Run depth estimation', style=ButtonStyle())"
            ],
            "application/vnd.jupyter.widget-view+json": {
              "version_major": 2,
              "version_minor": 0,
              "model_id": "535a089b9f6b46f1b5fa4fd58142e329"
            }
          },
          "metadata": {}
        },
        {
          "output_type": "display_data",
          "data": {
            "text/plain": [
              "Output()"
            ],
            "application/vnd.jupyter.widget-view+json": {
              "version_major": 2,
              "version_minor": 0,
              "model_id": "2dc9686260e946ea96623dd72dbd18d3"
            }
          },
          "metadata": {}
        },
        {
          "output_type": "stream",
          "name": "stdout",
          "text": [
            "The object in front of you is a person and it's close\n"
          ]
        },
        {
          "output_type": "display_data",
          "data": {
            "text/plain": [
              "<IPython.lib.display.Audio object>"
            ],
            "text/html": [
              "\n",
              "                <audio  controls=\"controls\" autoplay=\"autoplay\">\n",
              "                    <source src=\"data:audio/x-wav;base64,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\" type=\"audio/x-wav\" />\n",
              "                    Your browser does not support the audio element.\n",
              "                </audio>\n",
              "              "
            ]
          },
          "metadata": {}
        },
        {
          "output_type": "stream",
          "name": "stdout",
          "text": [
            "The object in front of you is a person and it's close\n"
          ]
        },
        {
          "output_type": "display_data",
          "data": {
            "text/plain": [
              "<IPython.lib.display.Audio object>"
            ],
            "text/html": [
              "\n",
              "                <audio  controls=\"controls\" autoplay=\"autoplay\">\n",
              "                    <source src=\"data:audio/x-wav;base64,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\" type=\"audio/x-wav\" />\n",
              "                    Your browser does not support the audio element.\n",
              "                </audio>\n",
              "              "
            ]
          },
          "metadata": {}
        }
      ],
      "source": [
        "run_button.on_click(on_run_button_clicked)\n",
        "display(upload_button)\n",
        "display(run_button)\n",
        "display(output_widget)"
      ],
      "id": "TSGk1FaJIq36"
    }
  ],
  "metadata": {
    "accelerator": "GPU",
    "colab": {
      "provenance": [],
      "gpuType": "T4"
    },
    "kernelspec": {
      "display_name": "Python 3",
      "name": "python3"
    },
    "language_info": {
      "name": "python"
    },
    "noteable": {
      "last_delta_id": "ea80a183-7d45-4a2d-a644-df88e87ae349",
      "last_transaction_id": "e12c1f7b-65c4-4cae-be16-3eb96d6032b9"
    },
    "noteable-chatgpt": {
      "create_notebook": {
        "openai_conversation_id": "829b9eed-10ab-5a7b-af5a-f25321295d38",
        "openai_ephemeral_user_id": "36939bf5-b6a7-5db4-8bf8-bc17b96cf8e4",
        "openai_subdivision1_iso_code": "AE-DU"
      }
    },
    "nteract": {
      "version": "noteable@2.9.0"
    },
    "selected_hardware_size": "small",
    "widgets": {
      "application/vnd.jupyter.widget-state+json": {
        "f7b9a7322a734f90ad2710f84b2e873f": {
          "model_module": "@jupyter-widgets/controls",
          "model_name": "FileUploadModel",
          "model_module_version": "1.5.0",
          "state": {
            "_counter": 1,
            "_dom_classes": [],
            "_model_module": "@jupyter-widgets/controls",
            "_model_module_version": "1.5.0",
            "_model_name": "FileUploadModel",
            "_view_count": null,
            "_view_module": "@jupyter-widgets/controls",
            "_view_module_version": "1.5.0",
            "_view_name": "FileUploadView",
            "accept": "",
            "button_style": "",
            "data": [
              null
            ],
            "description": "Upload",
            "description_tooltip": null,
            "disabled": false,
            "error": "",
            "icon": "upload",
            "layout": "IPY_MODEL_4aeeecf69a6d4952b1778421d983277d",
            "metadata": [
              {
                "name": "4-up on 1-13-22 at 12.55 PM #2.jpg",
                "type": "image/jpeg",
                "size": 202641,
                "lastModified": 1642071305000
              }
            ],
            "multiple": false,
            "style": "IPY_MODEL_ef4ac0dbe420459291c42294b83ef96e"
          }
        },
        "4aeeecf69a6d4952b1778421d983277d": {
          "model_module": "@jupyter-widgets/base",
          "model_name": "LayoutModel",
          "model_module_version": "1.2.0",
          "state": {
            "_model_module": "@jupyter-widgets/base",
            "_model_module_version": "1.2.0",
            "_model_name": "LayoutModel",
            "_view_count": null,
            "_view_module": "@jupyter-widgets/base",
            "_view_module_version": "1.2.0",
            "_view_name": "LayoutView",
            "align_content": null,
            "align_items": null,
            "align_self": null,
            "border": null,
            "bottom": null,
            "display": null,
            "flex": null,
            "flex_flow": null,
            "grid_area": null,
            "grid_auto_columns": null,
            "grid_auto_flow": null,
            "grid_auto_rows": null,
            "grid_column": null,
            "grid_gap": null,
            "grid_row": null,
            "grid_template_areas": null,
            "grid_template_columns": null,
            "grid_template_rows": null,
            "height": null,
            "justify_content": null,
            "justify_items": null,
            "left": null,
            "margin": null,
            "max_height": null,
            "max_width": null,
            "min_height": null,
            "min_width": null,
            "object_fit": null,
            "object_position": null,
            "order": null,
            "overflow": null,
            "overflow_x": null,
            "overflow_y": null,
            "padding": null,
            "right": null,
            "top": null,
            "visibility": null,
            "width": null
          }
        },
        "ef4ac0dbe420459291c42294b83ef96e": {
          "model_module": "@jupyter-widgets/controls",
          "model_name": "ButtonStyleModel",
          "model_module_version": "1.5.0",
          "state": {
            "_model_module": "@jupyter-widgets/controls",
            "_model_module_version": "1.5.0",
            "_model_name": "ButtonStyleModel",
            "_view_count": null,
            "_view_module": "@jupyter-widgets/base",
            "_view_module_version": "1.2.0",
            "_view_name": "StyleView",
            "button_color": null,
            "font_weight": ""
          }
        },
        "535a089b9f6b46f1b5fa4fd58142e329": {
          "model_module": "@jupyter-widgets/controls",
          "model_name": "ButtonModel",
          "model_module_version": "1.5.0",
          "state": {
            "_dom_classes": [],
            "_model_module": "@jupyter-widgets/controls",
            "_model_module_version": "1.5.0",
            "_model_name": "ButtonModel",
            "_view_count": null,
            "_view_module": "@jupyter-widgets/controls",
            "_view_module_version": "1.5.0",
            "_view_name": "ButtonView",
            "button_style": "",
            "description": "Run depth estimation",
            "disabled": false,
            "icon": "",
            "layout": "IPY_MODEL_cc7f3059b20b40949ab6bd7f43caee52",
            "style": "IPY_MODEL_4b6210d5a4e64d948118844436b6f57b",
            "tooltip": ""
          }
        },
        "cc7f3059b20b40949ab6bd7f43caee52": {
          "model_module": "@jupyter-widgets/base",
          "model_name": "LayoutModel",
          "model_module_version": "1.2.0",
          "state": {
            "_model_module": "@jupyter-widgets/base",
            "_model_module_version": "1.2.0",
            "_model_name": "LayoutModel",
            "_view_count": null,
            "_view_module": "@jupyter-widgets/base",
            "_view_module_version": "1.2.0",
            "_view_name": "LayoutView",
            "align_content": null,
            "align_items": null,
            "align_self": null,
            "border": null,
            "bottom": null,
            "display": null,
            "flex": null,
            "flex_flow": null,
            "grid_area": null,
            "grid_auto_columns": null,
            "grid_auto_flow": null,
            "grid_auto_rows": null,
            "grid_column": null,
            "grid_gap": null,
            "grid_row": null,
            "grid_template_areas": null,
            "grid_template_columns": null,
            "grid_template_rows": null,
            "height": null,
            "justify_content": null,
            "justify_items": null,
            "left": null,
            "margin": null,
            "max_height": null,
            "max_width": null,
            "min_height": null,
            "min_width": null,
            "object_fit": null,
            "object_position": null,
            "order": null,
            "overflow": null,
            "overflow_x": null,
            "overflow_y": null,
            "padding": null,
            "right": null,
            "top": null,
            "visibility": null,
            "width": null
          }
        },
        "4b6210d5a4e64d948118844436b6f57b": {
          "model_module": "@jupyter-widgets/controls",
          "model_name": "ButtonStyleModel",
          "model_module_version": "1.5.0",
          "state": {
            "_model_module": "@jupyter-widgets/controls",
            "_model_module_version": "1.5.0",
            "_model_name": "ButtonStyleModel",
            "_view_count": null,
            "_view_module": "@jupyter-widgets/base",
            "_view_module_version": "1.2.0",
            "_view_name": "StyleView",
            "button_color": null,
            "font_weight": ""
          }
        },
        "2dc9686260e946ea96623dd72dbd18d3": {
          "model_module": "@jupyter-widgets/output",
          "model_name": "OutputModel",
          "model_module_version": "1.0.0",
          "state": {
            "_dom_classes": [],
            "_model_module": "@jupyter-widgets/output",
            "_model_module_version": "1.0.0",
            "_model_name": "OutputModel",
            "_view_count": null,
            "_view_module": "@jupyter-widgets/output",
            "_view_module_version": "1.0.0",
            "_view_name": "OutputView",
            "layout": "IPY_MODEL_dd1993f365d54701bb95db1f7780ae71",
            "msg_id": "",
            "outputs": [
              {
                "output_type": "display_data",
                "data": {
                  "text/plain": "<Figure size 640x480 with 1 Axes>",
                  "image/png": "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\n"
                },
                "metadata": {}
              },
              {
                "output_type": "display_data",
                "data": {
                  "text/plain": "<Figure size 640x480 with 1 Axes>",
                  "image/png": "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\n"
                },
                "metadata": {}
              }
            ]
          }
        },
        "dd1993f365d54701bb95db1f7780ae71": {
          "model_module": "@jupyter-widgets/base",
          "model_name": "LayoutModel",
          "model_module_version": "1.2.0",
          "state": {
            "_model_module": "@jupyter-widgets/base",
            "_model_module_version": "1.2.0",
            "_model_name": "LayoutModel",
            "_view_count": null,
            "_view_module": "@jupyter-widgets/base",
            "_view_module_version": "1.2.0",
            "_view_name": "LayoutView",
            "align_content": null,
            "align_items": null,
            "align_self": null,
            "border": null,
            "bottom": null,
            "display": null,
            "flex": null,
            "flex_flow": null,
            "grid_area": null,
            "grid_auto_columns": null,
            "grid_auto_flow": null,
            "grid_auto_rows": null,
            "grid_column": null,
            "grid_gap": null,
            "grid_row": null,
            "grid_template_areas": null,
            "grid_template_columns": null,
            "grid_template_rows": null,
            "height": null,
            "justify_content": null,
            "justify_items": null,
            "left": null,
            "margin": null,
            "max_height": null,
            "max_width": null,
            "min_height": null,
            "min_width": null,
            "object_fit": null,
            "object_position": null,
            "order": null,
            "overflow": null,
            "overflow_x": null,
            "overflow_y": null,
            "padding": null,
            "right": null,
            "top": null,
            "visibility": null,
            "width": null
          }
        }
      }
    }
  },
  "nbformat": 4,
  "nbformat_minor": 5
}